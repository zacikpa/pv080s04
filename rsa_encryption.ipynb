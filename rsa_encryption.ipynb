{
 "cells": [
  {
   "cell_type": "markdown",
   "id": "4fdfa95a",
   "metadata": {},
   "source": [
    "# Part 2: Asymmetric encryption using Rivest-Shamir-Adleman (RSA)"
   ]
  },
  {
   "cell_type": "markdown",
   "id": "a19d71df",
   "metadata": {
    "heading_collapsed": true
   },
   "source": [
    "## Task 1: <font color='gray'>How _NOT_ to do it</font>"
   ]
  },
  {
   "cell_type": "markdown",
   "id": "1bed0ed4",
   "metadata": {
    "hidden": true
   },
   "source": [
    "Try **to figure out the issues** in the following code that uses RSA API. The code itself might not even be runable.\n",
    "\n",
    "Yo can look at the following links if you want:\n",
    "\n",
    "- [cryptography.rsa](https://cryptography.io/en/latest/hazmat/primitives/asymmetric/rsa/?highlight=rsa#) module documentation\n",
    "- [PKCS1v15 padding caveats](https://cryptography.io/en/latest/limitations/?highlight=PKCS1%20v1.5#rsa-pkcs1-v1-5-constant-time-decryption)\n",
    "- [Cryptography right answers](https://www.daemonology.net/blog/2009-06-11-cryptographic-right-answers.html)"
   ]
  },
  {
   "cell_type": "code",
   "execution_count": null,
   "id": "19fbc00e",
   "metadata": {
    "hidden": true,
    "solution2": "hidden",
    "solution2_first": true
   },
   "outputs": [],
   "source": [
    "from cryptography.hazmat.primitives.asymmetric import rsa, padding\n",
    "\n",
    "# Generate a private key of size 512\n",
    "private_key = rsa.generate_private_key(\n",
    "    public_exponent=3,\n",
    "    key_size=512,\n",
    ")\n",
    "\n",
    "# Our message to encrypt (quite long)\n",
    "message = b\"message\" * 100\n",
    "\n",
    "# Obtain the public key from the private one\n",
    "public_key = private_key.public_key()\n",
    "\n",
    "# Use PKCS#1 v1.5 padding\n",
    "pad = padding.PKCS1v15()\n",
    "\n",
    "# Encrypt the message\n",
    "ciphertext = public_key.encrypt(\n",
    "    message,\n",
    "    pad,\n",
    ")"
   ]
  },
  {
   "cell_type": "code",
   "execution_count": null,
   "id": "fd54c1e2",
   "metadata": {
    "hidden": true,
    "solution2": "hidden"
   },
   "outputs": [],
   "source": [
    "# Issue #1: `65537` is recommended as the public exponent\n",
    "# Issue #2: keys shorter than 2048 bits are not generally considered secure\n",
    "\n",
    "private_key = rsa.generate_private_key(\n",
    "    public_exponent=3,\n",
    "    key_size=512,\n",
    ")\n",
    "\n",
    "message = b\"message\" * 100\n",
    "public_key = private_key.public_key()\n",
    "\n",
    "# Issue #3: PKCS1v15 is not the recommended padding, especially in the\n",
    "# combination with public exponent `3`\n",
    "pad = padding.PKCS1v15()\n",
    "\n",
    "# Issue #4: encrypting messages longer than the modulus is not possible\n",
    "ciphertext = public_key.encrypt(\n",
    "    message,\n",
    "    pad\n",
    ")\n",
    "\n",
    "# More on:\n",
    "# combination of `PKCS1v15` and `public_exponent=3` is known to be\n",
    "# vulnerable to some attacks (search for PKCS):\n",
    "# https://www.daemonology.net/blog/2009-06-11-cryptographic-right-answers.html"
   ]
  },
  {
   "cell_type": "markdown",
   "id": "7dfb99b3",
   "metadata": {
    "heading_collapsed": true
   },
   "source": [
    "## <font color='blue'>_Checkpoint 1_:</font> <font color='gray'>encryption issues</font>"
   ]
  },
  {
   "cell_type": "markdown",
   "id": "60140bdf",
   "metadata": {
    "hidden": true
   },
   "source": [
    "**DO NOT** continue further in the notebook, wait for the tutor\n",
    "to tell you :-). Don't spoil the seminar for yourself."
   ]
  },
  {
   "cell_type": "markdown",
   "id": "723e213a",
   "metadata": {
    "heading_collapsed": true
   },
   "source": [
    "## Task 2: <font color='gray'>How to DO it</font>"
   ]
  },
  {
   "cell_type": "markdown",
   "id": "8c79377e",
   "metadata": {
    "heading_collapsed": true,
    "hidden": true
   },
   "source": [
    "### Issues #1 and #2: Key generation\n",
    "\n",
    "To generate a secure key, we need to use bigger key sizes and follow [**the recommendations**](https://cryptography.io/en/latest/hazmat/primitives/asymmetric/rsa/?highlight=verify#cryptography.hazmat.primitives.asymmetric.rsa.generate_private_key)\n",
    "for the public exponent."
   ]
  },
  {
   "cell_type": "code",
   "execution_count": null,
   "id": "8b33d561",
   "metadata": {
    "hidden": true
   },
   "outputs": [],
   "source": [
    "# Generate a 4096-bit long private key\n",
    "private_key = rsa.generate_private_key(\n",
    "    public_exponent=65537,\n",
    "    key_size=4096,\n",
    ")\n",
    "\n",
    "public_key = private_key.public_key()\n",
    "\n",
    "# The type of key is `rsa.RSAPrivateKey`, not `bytes`\n",
    "print(isinstance(private_key, rsa.RSAPrivateKey))\n",
    "\n",
    "# Similarly with the public key\n",
    "print(isinstance(public_key, rsa.RSAPublicKey))"
   ]
  },
  {
   "cell_type": "markdown",
   "id": "e0ea65cc",
   "metadata": {
    "heading_collapsed": true,
    "hidden": true
   },
   "source": [
    "### Issues #3: Message (un)padding\n",
    "Again, we need to follow [**the recommendations**](https://cryptography.io/en/latest/hazmat/primitives/asymmetric/rsa/?highlight=verify#cryptography.hazmat.primitives.asymmetric.padding.OAEP) and use a different padding scheme - OAEP."
   ]
  },
  {
   "cell_type": "code",
   "execution_count": null,
   "id": "4e05ee90",
   "metadata": {
    "hidden": true
   },
   "outputs": [],
   "source": [
    "from cryptography.hazmat.primitives import hashes\n",
    "\n",
    "# The padding scheme uses hash functions internally\n",
    "pad = padding.OAEP(\n",
    "    mgf=padding.MGF1(algorithm=hashes.SHA256()), \n",
    "    algorithm=hashes.SHA256(), \n",
    "    label=None\n",
    ")"
   ]
  },
  {
   "cell_type": "markdown",
   "id": "059299e3",
   "metadata": {
    "heading_collapsed": true,
    "hidden": true
   },
   "source": [
    "### Issue #4: Encrypting long messages\n",
    "It is not mathematically possible to encrypt messages longer than the key modulus."
   ]
  },
  {
   "cell_type": "code",
   "execution_count": null,
   "id": "624d1536",
   "metadata": {
    "hidden": true
   },
   "outputs": [],
   "source": [
    "# We can encrypt only short messages\n",
    "message = b\"message\"\n",
    "\n",
    "# Encrypt with the public key\n",
    "ciphertext = public_key.encrypt(\n",
    "    plaintext=message,\n",
    "    padding=pad,\n",
    ")\n",
    "\n",
    "# To decrypt we use the private key\n",
    "plaintext = private_key.decrypt(\n",
    "    ciphertext=ciphertext,\n",
    "    padding=pad,\n",
    ")\n",
    "\n",
    "print(plaintext == message)"
   ]
  },
  {
   "cell_type": "markdown",
   "id": "f76a0fae",
   "metadata": {
    "heading_collapsed": true
   },
   "source": [
    "## Task 3: <font color='gray'>Implement RSA encrypt/decrypt functions</font>"
   ]
  },
  {
   "cell_type": "markdown",
   "id": "7f8e6aae",
   "metadata": {
    "hidden": true
   },
   "source": [
    "Consult the [`cryptography.rsa`](https://cryptography.io/en/latest/hazmat/primitives/asymmetric/rsa/) module if necessary :)"
   ]
  },
  {
   "cell_type": "code",
   "execution_count": null,
   "id": "92397652",
   "metadata": {
    "hidden": true,
    "solution2": "hidden",
    "solution2_first": true
   },
   "outputs": [],
   "source": [
    "from typing import Optional\n",
    "\n",
    "\n",
    "def rsa_encrypt(public_key: rsa.RSAPublicKey, message: bytes) -> bytes:\n",
    "    # TODO: define the padding\n",
    "    # TODO: try encrypting the message\n",
    "    # TODO: return the ciphertext\n",
    "    pass\n",
    "\n",
    "\n",
    "def rsa_decrypt(private_key: rsa.RSAPrivateKey, ciphertext: bytes) -> Optional[bytes]:\n",
    "    # TODO: define the same padding\n",
    "    # TODO: try decrypting the message\n",
    "    # TODO: return the ciphertext\n",
    "    pass"
   ]
  },
  {
   "cell_type": "code",
   "execution_count": null,
   "id": "d31f703a",
   "metadata": {
    "hidden": true,
    "lines_to_next_cell": 1,
    "solution2": "hidden"
   },
   "outputs": [],
   "source": [
    "def rsa_encrypt(public_key: rsa.RSAPublicKey, message: bytes) -> Optional[bytes]:\n",
    "    # TODO: define the padding\n",
    "    pad = padding.OAEP(\n",
    "        mgf=padding.MGF1(algorithm=hashes.SHA256()),\n",
    "        algorithm=hashes.SHA256(),\n",
    "        label=None,\n",
    "    )\n",
    "    # TODO: encrypt the message\n",
    "    try:\n",
    "        ciphertext = public_key.encrypt(\n",
    "            message,\n",
    "            pad,\n",
    "        )\n",
    "    except:\n",
    "        ciphertext = None\n",
    "    # TODO: return the ciphertext\n",
    "    return ciphertext\n",
    "\n",
    "\n",
    "def rsa_decrypt(private_key: rsa.RSAPrivateKey, ciphertext: bytes) -> Optional[bytes]:\n",
    "    pad = padding.OAEP(\n",
    "        mgf=padding.MGF1(algorithm=hashes.SHA256()),\n",
    "        algorithm=hashes.SHA256(),\n",
    "        label=None,\n",
    "    )\n",
    "    try:\n",
    "        plaintext = private_key.decrypt(\n",
    "            ciphertext,\n",
    "            pad,\n",
    "        )\n",
    "    except:\n",
    "        plaintext = None\n",
    "\n",
    "    return plaintext"
   ]
  },
  {
   "cell_type": "markdown",
   "id": "91951da8",
   "metadata": {
    "heading_collapsed": true
   },
   "source": [
    "## <font color='blue'>_Checkpoint 2:_</font> <font color='gray'>webserver key API</font>"
   ]
  },
  {
   "cell_type": "markdown",
   "id": "161d9aa1",
   "metadata": {
    "hidden": true
   },
   "source": [
    "**DO NOT** continue futher in the notebook, wait for the tutor to tell you :-).<br>\n",
    "\n",
    "Don't spoil the seminar for yourself."
   ]
  },
  {
   "cell_type": "markdown",
   "id": "3797a09f",
   "metadata": {
    "heading_collapsed": true
   },
   "source": [
    "## Task 4: <font color='gray'>Communication using RSA</font>"
   ]
  },
  {
   "cell_type": "markdown",
   "id": "3a463d3d",
   "metadata": {
    "hidden": true
   },
   "source": [
    "Contrary to symmetric ciphers we **do not need** a second channel\n",
    "in order to share the secret key. However, we need to publish\n",
    "our public key. Next to the previous `send_message`, `recv_message` functions\n",
    "we have prepared also functions to publish your own key and to\n",
    "fetch someone else's key:\n",
    "\n",
    "```python\n",
    "send_message(uco_from: int, uco_to: int, content: bytes) -> str\n",
    "\n",
    "recv_message(uco: int) -> Mapping[str, Union[int, bytes]]\n",
    "\n",
    "publish_key(uco: int, key: rsa.RSAPublicKey) -> str\n",
    "\n",
    "fetch_key(uco: int) -> Optional[rsa.RSAPublicKey]\n",
    "```\n",
    "\n",
    "1. **Generate** your own private/public RSA keypair.\n",
    "2. **Publish** your public key.\n",
    "3. **Fetch** a friend's public key.\n",
    "4. **Encrypt** a message for a friend and **send** it.\n",
    "5. **Receive** a message from a friend and **decrypt** it."
   ]
  },
  {
   "cell_type": "code",
   "execution_count": null,
   "id": "a72fdbb2",
   "metadata": {
    "hidden": true
   },
   "outputs": [],
   "source": [
    "from server_communication import send_message, recv_message\n",
    "from server_communication import publish_key, fetch_key"
   ]
  },
  {
   "cell_type": "code",
   "execution_count": null,
   "id": "11ac1abb",
   "metadata": {
    "hidden": true
   },
   "outputs": [],
   "source": [
    "help(publish_key)"
   ]
  },
  {
   "cell_type": "code",
   "execution_count": null,
   "id": "871617db",
   "metadata": {
    "hidden": true
   },
   "outputs": [],
   "source": [
    "help(fetch_key)"
   ]
  },
  {
   "cell_type": "code",
   "execution_count": null,
   "id": "fd9c3d47",
   "metadata": {
    "hidden": true
   },
   "outputs": [],
   "source": [
    "# TODO: 1. **Generate** your own private/public RSA keypair.\n",
    "# Warning: do not overwrite your own key after you've published it\n",
    "# by executing this cell again and again! :-)"
   ]
  },
  {
   "cell_type": "code",
   "execution_count": null,
   "id": "07c4af8e",
   "metadata": {
    "hidden": true,
    "solution2": "hidden",
    "solution2_first": true
   },
   "outputs": [],
   "source": [
    "# TODO: 2. **Publish** your public key.\n",
    "# TODO: 3. **Fetch** a friend's public key.\n",
    "# TODO: 4. **Encrypt** a message for a friend and **send** it.\n",
    "# TODO: 5. **Receive** a message from a friend and **decrypt** it."
   ]
  },
  {
   "cell_type": "code",
   "execution_count": null,
   "id": "16fcc373",
   "metadata": {
    "hidden": true,
    "solution2": "hidden"
   },
   "outputs": [],
   "source": [
    "# TODO: 1. **Generate** your own private/public RSA keypair.\n",
    "# Warning: do not overwrite your own key after you've published it\n",
    "# by executing this cell again and again! :-)\n",
    "private_key = rsa.generate_private_key(\n",
    "    public_exponent=65537,\n",
    "    key_size=4096,\n",
    ")\n",
    "public_key = private_key.public_key()"
   ]
  },
  {
   "cell_type": "code",
   "execution_count": null,
   "id": "a81d32fc",
   "metadata": {
    "hidden": true,
    "solution2": "hidden"
   },
   "outputs": [],
   "source": [
    "# TODO: 2. **Publish** your public key.\n",
    "publish_key(uco=408788, key=public_key)\n",
    "# TODO: 3. **Fetch** a friend's public key.\n",
    "# I've used my own uco, to make the example work without the second party\n",
    "friends_key = fetch_key(uco=408788)\n",
    "# TODO: 4. **Encrypt** a message for a friend and **send** it.\n",
    "ciphertext = rsa_encrypt(public_key=friends_key, message=b\"Hello darkness, my old friend.\")\n",
    "send_message(uco_from=408788, uco_to=408788, content=ciphertext)\n",
    "# TODO: 5. **Receive** a message from a friend and **decrypt** it.\n",
    "ciphertext = recv_message(uco=408788)[408788]\n",
    "plaintext = rsa_decrypt(private_key=private_key, ciphertext=ciphertext)\n",
    "print(plaintext)"
   ]
  },
  {
   "cell_type": "markdown",
   "id": "38e01106",
   "metadata": {
    "heading_collapsed": true
   },
   "source": [
    "## (Bonus) Task: <font color='gray'>Walkthrough \"textbook\" RSA</font>"
   ]
  },
  {
   "cell_type": "markdown",
   "id": "fd8b566c",
   "metadata": {
    "hidden": true
   },
   "source": [
    "When we use the RSA API from the `cryptography` module we\n",
    "do not directly handle the primes $p,q$ and the private exponent\n",
    "$d$. However, even if hidden, those values are still present.\n",
    "\n",
    "### Refresh the math behind RSA encryption/decryption routines\n",
    "\n",
    "RSA consists of **private** primes $p,q$ that form the modulus\n",
    "\n",
    "\\begin{align}\\label{N}\n",
    "N= p\\cdot q\n",
    "\\end{align}\n",
    "\n",
    "The **encryption** of a message $m$ is then defined as:\n",
    "\n",
    "\\begin{align*}\n",
    "c=m^e \\mod N\n",
    "\\end{align*}\n",
    "\n",
    "where $e$ is the public exponent (usually $65537$) and $c$ is\n",
    "the ciphertext. The **decryption** is done using the **private**\n",
    "exponent $d$ that satisfies:\n",
    "\n",
    "\\begin{align}\\label{priv_def}\n",
    "e\\cdot d \\equiv 1 \\mod \\phi(N)\n",
    "\\end{align}\n",
    "\n",
    "For $p,q$ primes it holds that\n",
    "\n",
    "\\begin{align*}\n",
    "\\phi(N) = \\phi(p \\cdot q) = \\phi(p) \\cdot \\phi(q) = (p-1)(q-1)\n",
    "\\end{align*}\n",
    "\n",
    "The **decryption** routine than looks like this\n",
    "\n",
    "\\begin{align}\\label{decryption}\n",
    "c^d = (m^e)^d \\equiv m^{e\\cdot d} \\equiv m \\mod N\n",
    "\\end{align}\n",
    "\n",
    "Use the values before to verify the equalities/congruencies\n",
    "(1), (2) and (3)."
   ]
  },
  {
   "cell_type": "code",
   "execution_count": 2,
   "id": "527f535a",
   "metadata": {
    "hidden": true,
    "scrolled": true,
    "solution2": "shown",
    "solution2_first": true
   },
   "outputs": [
    {
     "ename": "NameError",
     "evalue": "name 'private_key' is not defined",
     "output_type": "error",
     "traceback": [
      "\u001b[0;31m---------------------------------------------------------------------------\u001b[0m",
      "\u001b[0;31mNameError\u001b[0m                                 Traceback (most recent call last)",
      "Input \u001b[0;32mIn [2]\u001b[0m, in \u001b[0;36m<cell line: 1>\u001b[0;34m()\u001b[0m\n\u001b[0;32m----> 1\u001b[0m p \u001b[38;5;241m=\u001b[39m \u001b[43mprivate_key\u001b[49m\u001b[38;5;241m.\u001b[39mprivate_numbers()\u001b[38;5;241m.\u001b[39mp\n\u001b[1;32m      2\u001b[0m q \u001b[38;5;241m=\u001b[39m private_key\u001b[38;5;241m.\u001b[39mprivate_numbers()\u001b[38;5;241m.\u001b[39mq\n\u001b[1;32m      3\u001b[0m d \u001b[38;5;241m=\u001b[39m private_key\u001b[38;5;241m.\u001b[39mprivate_numbers()\u001b[38;5;241m.\u001b[39md\n",
      "\u001b[0;31mNameError\u001b[0m: name 'private_key' is not defined"
     ]
    }
   ],
   "source": [
    "p = private_key.private_numbers().p\n",
    "q = private_key.private_numbers().q\n",
    "d = private_key.private_numbers().d\n",
    "\n",
    "e = private_key.public_key().public_numbers().e\n",
    "N = private_key.public_key().public_numbers().n\n",
    "\n",
    "# we will generate a random message\n",
    "import random\n",
    "\n",
    "m = random.randint(0, N - 1)\n",
    "\n",
    "# HINT: use the pow(base, exponent, modulus) to perform\n",
    "# modular exponentiation quickly\n",
    "\n",
    "# TODO: equation (1)\n",
    "\n",
    "# TODO: equation (2)\n",
    "\n",
    "# TODO: equation (3)"
   ]
  },
  {
   "cell_type": "code",
   "execution_count": null,
   "id": "4f9192b7",
   "metadata": {
    "hidden": true
   },
   "outputs": [],
   "source": []
  }
 ],
 "metadata": {
  "kernelspec": {
   "display_name": "venv",
   "language": "python",
   "name": "venv"
  },
  "language_info": {
   "codemirror_mode": {
    "name": "ipython",
    "version": 3
   },
   "file_extension": ".py",
   "mimetype": "text/x-python",
   "name": "python",
   "nbconvert_exporter": "python",
   "pygments_lexer": "ipython3",
   "version": "3.9.10"
  }
 },
 "nbformat": 4,
 "nbformat_minor": 5
}
