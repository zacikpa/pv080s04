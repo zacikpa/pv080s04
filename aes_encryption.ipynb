{
 "cells": [
  {
   "cell_type": "markdown",
   "id": "64208e9a",
   "metadata": {
    "hide_input": false
   },
   "source": [
    "# Part 1: Symmetric encryption using Advanced-Encryption-Standard (AES)"
   ]
  },
  {
   "cell_type": "markdown",
   "id": "e5bd8364",
   "metadata": {
    "heading_collapsed": true
   },
   "source": [
    "## <font color='gray'>Python cheatsheet</font>"
   ]
  },
  {
   "cell_type": "markdown",
   "id": "58425587",
   "metadata": {
    "hidden": true
   },
   "source": [
    "`bytes` can be written in ASCII or HEXA"
   ]
  },
  {
   "cell_type": "code",
   "execution_count": null,
   "id": "bcf7f6c0",
   "metadata": {
    "hidden": true
   },
   "outputs": [],
   "source": [
    "print(b\"hello\" == b\"\\x68\\x65\\x6c\\x6c\\x6f\")"
   ]
  },
  {
   "cell_type": "markdown",
   "id": "b681e821",
   "metadata": {
    "hidden": true
   },
   "source": [
    "`list` and `bytes` types can be concatenated using `+`"
   ]
  },
  {
   "cell_type": "code",
   "execution_count": null,
   "id": "ceee553f",
   "metadata": {
    "hidden": true
   },
   "outputs": [],
   "source": [
    "print([1, 2, 3] + [4, 5] == [1, 2, 3, 4, 5])\n",
    "print(b\"hello\" + b\" world\" == b\"hello world\")"
   ]
  },
  {
   "cell_type": "markdown",
   "id": "4da80b6e",
   "metadata": {
    "hidden": true
   },
   "source": [
    "To slice/access parts of `bytes` or `list` you can use `[start_index:end_index]`"
   ]
  },
  {
   "cell_type": "code",
   "execution_count": null,
   "id": "8fc294a2",
   "metadata": {
    "hidden": true
   },
   "outputs": [],
   "source": [
    "print([1, 2, 3, 4, 5][:2] == [1, 2])\n",
    "print([1, 2, 3, 4, 5][2:] == [3, 4, 5])\n",
    "print(b\"earth\"[1:4] == b\"art\")"
   ]
  },
  {
   "cell_type": "markdown",
   "id": "9cdb44cd",
   "metadata": {
    "hidden": true
   },
   "source": [
    "To index a value in a `list` use `[index]`"
   ]
  },
  {
   "cell_type": "code",
   "execution_count": null,
   "id": "d175a211",
   "metadata": {
    "hidden": true
   },
   "outputs": [],
   "source": [
    "print([1, 2, 3, 4, 5][3] == 4)"
   ]
  },
  {
   "cell_type": "markdown",
   "id": "9e9cd99d",
   "metadata": {
    "hidden": true
   },
   "source": [
    "To access a `value` in a `dict` us `[\"key\"]`"
   ]
  },
  {
   "cell_type": "code",
   "execution_count": null,
   "id": "970ec9f3",
   "metadata": {
    "hidden": true
   },
   "outputs": [],
   "source": [
    "print({123456: b\"hello 987654\"}[123456] == b\"hello 987654\")"
   ]
  },
  {
   "cell_type": "markdown",
   "id": "de2b8043",
   "metadata": {
    "heading_collapsed": true
   },
   "source": [
    "## Task 1: <font color='gray'>How _NOT_ to do it</font>"
   ]
  },
  {
   "cell_type": "markdown",
   "id": "511c6f64",
   "metadata": {
    "hidden": true
   },
   "source": [
    "We will start with **a bad implementation** of AES in Python. Your task is to **identify** issues (up to 3) in the following code.\n",
    "\n",
    "Focus on the following parts:\n",
    "- Key generation\n",
    "- Message padding and integrity\n",
    "- Cipher configuration and proper API usage\n",
    "\n",
    "**Note** down what you've found.\n",
    "\n",
    "Useful links:\n",
    "- [`datetime`](https://docs.python.org/3/library/datetime.html) module and [`ctime()`](https://docs.python.org/3/library/datetime.html#datetime.date.ctime) function documentation\n",
    "- [`random`](https://docs.python.org/3/library/random.html) module and [`randint()`](https://docs.python.org/3/library/random.html#random.randint) function documentation\n",
    "- [`cryptography`](https://cryptography.io/en/latest/hazmat/primitives/symmetric-encryption/#module-cryptography.hazmat.primitives.ciphers) module documentation\n"
   ]
  },
  {
   "cell_type": "code",
   "execution_count": null,
   "id": "4478e05c",
   "metadata": {
    "hidden": true,
    "solution2": "hidden",
    "solution2_first": true
   },
   "outputs": [],
   "source": [
    "import random\n",
    "from datetime import datetime\n",
    "from cryptography.hazmat.primitives.ciphers import Cipher, algorithms, modes\n",
    "\n",
    "random.seed(datetime.today().date().ctime())\n",
    "key = bytes([random.randint(0, 255)] * 16)\n",
    "\n",
    "message = b\"This is the message that we want to encrypt.\"\n",
    "padded_message = message + b\"\\x00\" * 20\n",
    "\n",
    "cipher = Cipher(algorithms.AES(key=key), mode=modes.ECB())\n",
    "\n",
    "encryptor = cipher.encryptor()\n",
    "ciphertext = encryptor.update(padded_message)\n",
    "ciphertext += encryptor.finalize()"
   ]
  },
  {
   "cell_type": "code",
   "execution_count": null,
   "id": "2e0a57dc",
   "metadata": {
    "hidden": true,
    "solution2": "hidden"
   },
   "outputs": [],
   "source": [
    "import random\n",
    "from datetime import datetime\n",
    "from cryptography.hazmat.primitives.ciphers import Cipher, algorithms, modes\n",
    "\n",
    "# Issue #1: insecure key generation\n",
    "random.seed(datetime.today().date().ctime())\n",
    "key = bytes([random.randint(0, 255)] * 16)\n",
    "\n",
    "message = b\"This is the message that we want to encrypt.\"\n",
    "# Issue #2: incorrect message padding (makes it ambiguous)\n",
    "padded_message = message + b\"\\x00\" * 20\n",
    "\n",
    "# Issue #3: the ECB mode is not secure for longer messages/data\n",
    "cipher = Cipher(algorithms.AES(key=key), mode=modes.ECB())\n",
    "encryptor = cipher.encryptor()\n",
    "\n",
    "ciphertext = encryptor.update(padded_message)\n",
    "ciphertext += encryptor.finalize() "
   ]
  },
  {
   "cell_type": "markdown",
   "id": "1283ef9f",
   "metadata": {
    "heading_collapsed": true
   },
   "source": [
    "## <font color='blue'>_Checkpoint 1_ <font color='gray'>encryption issues</font>"
   ]
  },
  {
   "cell_type": "markdown",
   "id": "3d30829b",
   "metadata": {
    "hidden": true
   },
   "source": [
    "**DO NOT** continue further in the notebook, wait for the tutor to tell you :-). Don't spoil the seminar for yourself."
   ]
  },
  {
   "cell_type": "markdown",
   "id": "815d3122",
   "metadata": {
    "heading_collapsed": true
   },
   "source": [
    "## Task 2: <font color='gray'>How to _DO_ it</font>"
   ]
  },
  {
   "cell_type": "markdown",
   "id": "c1c12f5a",
   "metadata": {
    "hidden": true
   },
   "source": [
    "Now that we know **what and why** was bad in the previous example we\n",
    "can look into how to do it properly."
   ]
  },
  {
   "cell_type": "markdown",
   "id": "444789e1",
   "metadata": {
    "hidden": true
   },
   "source": [
    "### Issue #1: Key generation\n",
    "To generate cryptograhically secure and random values we use [`secrets`](https://docs.python.org/3/library/secrets.html) module in Python."
   ]
  },
  {
   "cell_type": "code",
   "execution_count": null,
   "id": "a9b8cbc2",
   "metadata": {
    "hidden": true
   },
   "outputs": [],
   "source": [
    "import secrets\n",
    "\n",
    "# Generate 16 bytes of cryptographically secure random numbers\n",
    "example_key = secrets.token_bytes(nbytes=16)\n",
    "print(example_key.hex(sep=\" \"))"
   ]
  },
  {
   "cell_type": "markdown",
   "id": "1b0de810",
   "metadata": {
    "hidden": true
   },
   "source": [
    "### Issue #2: Message (un)padding\n",
    "\n",
    "To properly **pad** and **unpad** a message we need to use the provided [`padding`](https://cryptography.io/en/latest/hazmat/primitives/padding/) API."
   ]
  },
  {
   "cell_type": "code",
   "execution_count": null,
   "id": "2eb24cf9",
   "metadata": {
    "hidden": true
   },
   "outputs": [],
   "source": [
    "from cryptography.hazmat.primitives import padding\n",
    "\n",
    "message = b\"message\"\n",
    "\n",
    "# Create a padding object and initialize it to block size of 128 bits = 16 bytes\n",
    "padder = padding.PKCS7(128).padder()\n",
    "padded_data = padder.update(message)\n",
    "print(f\"Padding before finalization: {padded_data.hex()}\")\n",
    "\n",
    "# Make sure to finalize the padding!\n",
    "padded_data += padder.finalize()\n",
    "print(f\"After padding finalization: {padded_data.hex()}\")"
   ]
  },
  {
   "cell_type": "code",
   "execution_count": null,
   "id": "7cb54ab6",
   "metadata": {
    "hidden": true
   },
   "outputs": [],
   "source": [
    "# Once we decrypt we need to unpad the message\n",
    "# Create a padding object and initialize it to block size of 128 bits = 16 bytes\n",
    "unpadder = padding.PKCS7(128).unpadder()\n",
    "data = unpadder.update(padded_data) + unpadder.finalize()\n",
    "print(f\"Unpadded message: {data.hex()}\")"
   ]
  },
  {
   "cell_type": "markdown",
   "id": "88e140ff",
   "metadata": {
    "heading_collapsed": true,
    "hidden": true
   },
   "source": [
    "### Issue #3: Secure mode CBC\n",
    "the ECB mode is **not secure** in the most cases. We are going to use the **CBC** mode.<br>\n",
    "This mode requires an **initialization vector** (IV). There are 3 important facts about the IV:\n",
    "1. it must be **random** (similarly to the key),\n",
    "2. its size is **the same** as the block size of the cipher (**16 bytes** for AES),\n",
    "3. the IV is transmitted to the receiving party in plaintext, **it is not secret**:\n",
    "\n",
    "A common approach is to prefix the ciphertext with the IV."
   ]
  },
  {
   "cell_type": "code",
   "execution_count": null,
   "id": "402b6a54",
   "metadata": {
    "hidden": true,
    "lines_to_next_cell": 1
   },
   "outputs": [],
   "source": [
    "# Generate IV the same way as the key\n",
    "iv = secrets.token_bytes(nbytes=16)\n",
    "\n",
    "# Initialize the CBC mode\n",
    "cbc = modes.CBC(iv)\n",
    "\n",
    "# Prefix the ciphertext with the IV \n",
    "ciphertext = b\"\\x16k\\xa5\\xa8S\\x9f\\x8e\\xe5\\xf8\\xf5r\\x85OIUo\"\n",
    "iv_and_ciphertext = iv + ciphertext\n",
    "\n",
    "# Split them back\n",
    "extracted_iv = iv_and_ciphertext[:16]\n",
    "extracted_ct = iv_and_ciphertext[16:]\n",
    "\n",
    "print(iv == extracted_iv)\n",
    "print(ciphertext == extracted_ct)"
   ]
  },
  {
   "cell_type": "markdown",
   "id": "2c607cc0",
   "metadata": {
    "heading_collapsed": true
   },
   "source": [
    "## Task 3: <font color='gray'>Implement AES encrypt/decrypt functions</font>"
   ]
  },
  {
   "cell_type": "markdown",
   "id": "5e5a83b3",
   "metadata": {
    "hidden": true
   },
   "source": [
    "Now you have all the building blocks (no pun intended :-)) to build encryption<br>\n",
    "and decryption functions. **Follow** the `TODO`s and implement `aes_cbc_encrypt`<br>\n",
    "and `aes_cbc_decrypt`.\n",
    "\n",
    "You can use all the previous examples to implement AES-CBC with 16B keys.\n",
    "\n",
    "If you need, you can use the [`cryptography`](https://cryptography.io/en/latest/hazmat/primitives/symmetric-encryption/#module-cryptography.hazmat.primitives.ciphers) documentation."
   ]
  },
  {
   "cell_type": "code",
   "execution_count": null,
   "id": "859ed888",
   "metadata": {
    "hidden": true
   },
   "outputs": [],
   "source": [
    "def aes_cbc_encrypt(key: bytes, message: bytes) -> bytes:\n",
    "    # TODO: add PKCS7 padding to the message\n",
    "    # TODO: generate the initialization vector\n",
    "    # TODO: initialize the CBC encryption mode\n",
    "    # TODO: encrypt the message including the finalization of the encryption\n",
    "    # TODO: prefix the ciphertext with the intialization vector (concatenate iv and ciphertext)\n",
    "    # TODO: return the ciphertext\n",
    "    pass"
   ]
  },
  {
   "cell_type": "code",
   "execution_count": null,
   "id": "ef1a0edc",
   "metadata": {
    "hidden": true
   },
   "outputs": [],
   "source": [
    "def aes_cbc_decrypt(key: bytes, ciphertext: bytes) -> bytes:\n",
    "    # TODO: extract the IV from the ciphertext\n",
    "    # TODO: initialize the CBC encryption mode\n",
    "    # TODO: decrypt the ciphertext including the finalization\n",
    "    # TODO: unpad the padded plaintext to obtain the original msg\n",
    "    # TODO: return the plaintext\n",
    "    pass"
   ]
  },
  {
   "cell_type": "code",
   "execution_count": null,
   "id": "9b240f09",
   "metadata": {
    "hidden": true,
    "solution2": "hidden",
    "solution2_first": true
   },
   "outputs": [],
   "source": [
    "# Test that encryption/decryption works\n",
    "test_key = secrets.token_bytes(16)\n",
    "test_message = b\"some test message\"\n",
    "test_ciphertext = aes_cbc_encrypt(key=test_key, message=test_message)\n",
    "test_plaintext = aes_cbc_decrypt(key=test_key, ciphertext=test_ciphertext)\n",
    "print(test_message == test_plaintext)"
   ]
  },
  {
   "cell_type": "code",
   "execution_count": null,
   "id": "df1b097a",
   "metadata": {
    "hidden": true,
    "solution2": "hidden"
   },
   "outputs": [],
   "source": [
    "from cryptography.hazmat.primitives.ciphers.modes import CBC\n",
    "from cryptography.hazmat.primitives import padding\n",
    "import secrets\n",
    "\n",
    "\n",
    "def SOLUTION_aes_cbc_encrypt(key: bytes, message: bytes) -> bytes:\n",
    "    # TODO: add PKCS7 padding to the message\n",
    "    padder = padding.PKCS7(128).padder()\n",
    "    padded_msg = padder.update(message) + padder.finalize()\n",
    "    # TODO: generate the initialization vector\n",
    "    iv = secrets.token_bytes(16)\n",
    "    # TODO: initialize the CBC encryption mode\n",
    "    cipher = Cipher(algorithms.AES(key=key), mode=modes.CBC(iv))\n",
    "    encryptor = cipher.encryptor()\n",
    "    # TODO: encrypt the message including the finalization of the encryption\n",
    "    ciphertext = encryptor.update(padded_msg) + encryptor.finalize()\n",
    "    # TODO: prefix the ciphertext with the intialization vector\n",
    "    # TODO: return the ciphertext\n",
    "    return iv + ciphertext\n",
    "\n",
    "\n",
    "def SOLUTION_aes_cbc_decrypt(key: bytes, ciphertext: bytes) -> bytes:\n",
    "    # TODO: extract the IV from the ciphertext\n",
    "    iv = ciphertext[:16]\n",
    "    ciphertext = ciphertext[16:]\n",
    "    # TODO: initialize the CBC encryption mode\n",
    "    cipher = Cipher(algorithms.AES(key=key), mode=modes.CBC(iv))\n",
    "    decryptor = cipher.decryptor()\n",
    "    # TODO: decrypt the ciphertext including the finalization\n",
    "    padded_plaintext = decryptor.update(ciphertext) + decryptor.finalize()\n",
    "    # TODO: unpad the padded plaintext to obtain the original msg\n",
    "    unpadder = padding.PKCS7(128).unpadder()\n",
    "    plaintext = unpadder.update(padded_plaintext) + unpadder.finalize()\n",
    "    # TODO: return the plaintext\n",
    "    return plaintext"
   ]
  },
  {
   "cell_type": "markdown",
   "id": "aa29d0ed",
   "metadata": {
    "heading_collapsed": true
   },
   "source": [
    "## <font color='blue'>_Checkpoint 2_:</font>  <font color='gray'>webserver message API</font>"
   ]
  },
  {
   "cell_type": "markdown",
   "id": "11e93cbb",
   "metadata": {
    "hidden": true
   },
   "source": [
    "**DO NOT** continue further in the notebook, wait for the tutor to tell you :-).<br>\n",
    "\n",
    "Don't spoil the seminar for yourself."
   ]
  },
  {
   "cell_type": "markdown",
   "id": "32030589",
   "metadata": {
    "heading_collapsed": true
   },
   "source": [
    "## Task 4: <font color='gray'>encrypted communication over the \"wire\"</font>"
   ]
  },
  {
   "cell_type": "markdown",
   "id": "c36ec59a",
   "metadata": {
    "heading_collapsed": true,
    "hidden": true
   },
   "source": [
    "### 4.1 Key sharing"
   ]
  },
  {
   "cell_type": "markdown",
   "id": "a84f0ba7",
   "metadata": {
    "hidden": true
   },
   "source": [
    "To share a key we need **a secure channel**. For now we\n",
    "don't have a better secure channel than to directly **give** the key\n",
    "to the other party.\n",
    "\n",
    "Use the paper to write down **your UCO** and **your own key**:\n",
    "![key.png](attachment:key.png)"
   ]
  },
  {
   "cell_type": "code",
   "execution_count": null,
   "id": "1fab571e",
   "metadata": {
    "hidden": true
   },
   "outputs": [],
   "source": [
    "example_key = secrets.token_bytes(16)\n",
    "# Hint: to print the key in a format that is easier to write down\n",
    "print(example_key.hex(sep=\" \"))"
   ]
  },
  {
   "cell_type": "code",
   "execution_count": null,
   "id": "f7f8d795",
   "metadata": {
    "hidden": true
   },
   "outputs": [],
   "source": [
    "# Hint: to convert the key into bytes from the readable format\n",
    "print(bytes.fromhex(\"CE 9C 89 28 27 20 C4 2E 36 2F 20 30 8C 1F F3 F8\"))"
   ]
  },
  {
   "cell_type": "markdown",
   "id": "aecdf633",
   "metadata": {
    "heading_collapsed": true,
    "hidden": true
   },
   "source": [
    "### 4.2 Communication"
   ]
  },
  {
   "cell_type": "markdown",
   "id": "8821a986",
   "metadata": {
    "hidden": true
   },
   "source": [
    "We've prepared a simple web server, which you can use to send **a single message**.<br>\n",
    "Use the following functions to exchange messages:\n",
    "```python\n",
    "send_message(uco_from: int, uco_to: int, message: bytes) -> str\n",
    "recv_message(uco: int) -> Mapping[str, Union[int, bytes]]\n",
    "```"
   ]
  },
  {
   "cell_type": "code",
   "execution_count": null,
   "id": "9dea0ba5",
   "metadata": {
    "hidden": true
   },
   "outputs": [],
   "source": [
    "from server_communication import send_message, recv_message"
   ]
  },
  {
   "cell_type": "markdown",
   "id": "dd7b0092",
   "metadata": {
    "hidden": true
   },
   "source": [
    "You can use `help(<funtion_name>)` to display the documentation."
   ]
  },
  {
   "cell_type": "code",
   "execution_count": null,
   "id": "54bfd6dc",
   "metadata": {
    "hidden": true
   },
   "outputs": [],
   "source": [
    "help(send_message)\n",
    "help(recv_message)"
   ]
  },
  {
   "cell_type": "markdown",
   "id": "5506a9e7",
   "metadata": {
    "hidden": true
   },
   "source": [
    "Use the previously implemented functions to communicate securely with your classmate:\n",
    "1. **Generate** a secret key (make sure not to **overwrite it** by executing the cell again).\n",
    "2. **Write down** the key in hexa on a paper and **exchange it** with a friend.\n",
    "3. **Encrypt** a message using the preshared key and send it using `send_message`.\n",
    "4. ..._wait_... for your friend's message and receive it using `recv_message`.\n",
    "5. **Decrypt** the message using the preshared key."
   ]
  },
  {
   "cell_type": "code",
   "execution_count": null,
   "id": "d7b1b37b",
   "metadata": {
    "hidden": true
   },
   "outputs": [],
   "source": [
    "# TODO 1. **Generate** a secret key (make sure not to **overwrite it** by executing the cell again)."
   ]
  },
  {
   "cell_type": "code",
   "execution_count": null,
   "id": "97adce60",
   "metadata": {
    "hidden": true,
    "solution2": "hidden",
    "solution2_first": true
   },
   "outputs": [],
   "source": [
    "# TODO: 2. **Write down** the key in hexa on a paper and **exchange it** with a friend.\n",
    "# TODO: 3. **Encrypt** a message using the preshared key and send it using `send_message`.\n",
    "#       4. ..._wait_... for your friend's message and receive it using `recv_message`.\n",
    "# TODO: 5. **Decrypt** the message using the preshared key."
   ]
  },
  {
   "cell_type": "code",
   "execution_count": null,
   "id": "d16e2775",
   "metadata": {
    "hidden": true,
    "hide_input": false,
    "solution2": "hidden"
   },
   "outputs": [],
   "source": [
    "key = secrets.token_bytes(16)"
   ]
  },
  {
   "cell_type": "code",
   "execution_count": null,
   "id": "52d73fb0",
   "metadata": {
    "hidden": true,
    "solution2": "hidden"
   },
   "outputs": [],
   "source": [
    "ciphertext = aes_cbc_encrypt(key=key, message=b\"my message\")\n",
    "send_message(uco_from=123456, uco_to=987654, content=ciphertext)\n",
    "# ...wait... for a friend to send a message to you\n",
    "ciphertext_from_123456 = recv_message(uco=987654)[123456]\n",
    "plaintext = aes_cbc_decrypt(key=key, ciphertext=ciphertext_from_123456)"
   ]
  }
 ],
 "metadata": {
  "jupytext": {
   "formats": "ipynb,py:light"
  },
  "kernelspec": {
   "display_name": "venv",
   "language": "python",
   "name": "venv"
  }
 },
 "nbformat": 4,
 "nbformat_minor": 5
}
